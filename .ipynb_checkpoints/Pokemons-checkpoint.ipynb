{
 "cells": [
  {
   "cell_type": "code",
   "execution_count": 95,
   "id": "81a535e2",
   "metadata": {},
   "outputs": [],
   "source": [
    "# !pip install selenium\n",
    "\n",
    "#Passo a passo\n",
    "# 1: Abrir navegador\n",
    "# 2: Importar base de dados\n",
    "# 3: Para cada pokemon da base de dados\n",
    "# 4: Pesquisar os dados do pokemon\n",
    "# 5: Atualizar os dados da base\n",
    "# 6: Gerar arquivo atualizado\n",
    "# ----------------------------------------\n",
    "# DRIVER para controlar o navegador:\n",
    "# install wedriver\n",
    "# firefox -> geckodriver\n",
    "# chrome -> chromedriver\n",
    "\n",
    "# Algumas ações do driver:\n",
    "# .click()-> clicar\n",
    "# .send_keys(\"texto\")-> escrever\n",
    "# .get_attribute() -> pegar um valor"
   ]
  },
  {
   "cell_type": "code",
   "execution_count": 96,
   "id": "4080997e",
   "metadata": {},
   "outputs": [],
   "source": [
    "from selenium import webdriver\n",
    "from selenium.webdriver.firefox.options import Options\n",
    "from selenium.webdriver.common.by import By\n",
    "from selenium.webdriver.support.ui import WebDriverWait \n",
    "from selenium.webdriver.support import expected_conditions as EC\n",
    "#1: Abrir navegador\n",
    "options = Options()\n",
    "options.binary_location = r'C:\\Program Files\\Mozilla Firefox\\firefox.exe'\n",
    "driver = webdriver.Firefox(options=options)"
   ]
  },
  {
   "cell_type": "code",
   "execution_count": 97,
   "id": "57133ff9",
   "metadata": {
    "scrolled": false
   },
   "outputs": [
    {
     "name": "stdout",
     "output_type": "stream",
     "text": [
      "Buscando Bulbassauro - OK\n",
      "Buscando Charmander - OK\n",
      "No button cookies found - OK\n",
      "Buscando Pidgey - OK\n",
      "No button cookies found - OK\n",
      "Buscando Pikachu - OK\n",
      "No button cookies found - OK\n",
      "Buscando Vulpix - OK\n",
      "No button cookies found - OK\n",
      "All Pokémon caught!\n",
      "FINISH - File named \"pokemon_data.xlsx\" generated\n"
     ]
    }
   ],
   "source": [
    "import pandas as pd\n",
    "\n",
    "# 2: Importar base de dados\n",
    "tabela = pd.read_excel(\"pokemons.xlsx\")\n",
    "\n",
    "# 3: Para cada pokemon da base de dados\n",
    "for linha in tabela.index:\n",
    "    pokemon = tabela.loc[linha, \"Pokemon\"]\n",
    "    \n",
    "    # 4: Pesquisar os dados do pokemon\n",
    "    link = f\"https://pokemon.fandom.com/pt-br/wiki/{pokemon}\"\n",
    "    driver.get(link)\n",
    "    print(f\"Buscando {pokemon} - OK\")\n",
    "    try:\n",
    "        WebDriverWait(driver, 2).until(EC.element_to_be_clickable((By.XPATH, \"//div[text()='ACEITAR']\"))).click()\n",
    "    except:\n",
    "        print(\"No button cookies found - OK\")\n",
    "    pokemon_altura = driver.find_element('xpath','/html/body/div[4]/div[3]/div[2]/main/div[3]/div[2]/div/table[2]/tbody/tr[3]/td/table/tbody/tr[5]/td[1]').text\n",
    "    pokemon_peso = driver.find_element('xpath','/html/body/div[4]/div[3]/div[2]/main/div[3]/div[2]/div/table[2]/tbody/tr[3]/td/table/tbody/tr[5]/td[2]').text\n",
    "    pokemon_categoria = driver.find_element('xpath','/html/body/div[4]/div[3]/div[2]/main/div[3]/div[2]/div/table[2]/tbody/tr[3]/td/table/tbody/tr[3]/td[1]').text\n",
    "    \n",
    "    # 5: Atualizar os dados da base\n",
    "    tabela.loc[linha, \"Altura\"] = pokemon_altura\n",
    "    tabela.loc[linha, \"Peso\"] = pokemon_peso\n",
    "    tabela.loc[linha, \"Categoria\"] = pokemon_categoria\n",
    "\n",
    "print(\"All Pokémon caught!\")\n",
    "\n",
    "# 6: Gerar arquivo atualizado\n",
    "tabela.to_excel(\"pokemon_data.xlsx\", index=False)\n",
    "print('FINISH - File named \"pokemon_data.xlsx\" generated')"
   ]
  },
  {
   "cell_type": "code",
   "execution_count": null,
   "id": "4a15013c",
   "metadata": {
    "scrolled": true
   },
   "outputs": [],
   "source": []
  },
  {
   "cell_type": "code",
   "execution_count": null,
   "id": "016d316d",
   "metadata": {},
   "outputs": [],
   "source": []
  },
  {
   "cell_type": "raw",
   "id": "63e90cb6",
   "metadata": {},
   "source": []
  },
  {
   "cell_type": "code",
   "execution_count": null,
   "id": "868efcac",
   "metadata": {},
   "outputs": [],
   "source": []
  }
 ],
 "metadata": {
  "kernelspec": {
   "display_name": "Python 3 (ipykernel)",
   "language": "python",
   "name": "python3"
  },
  "language_info": {
   "codemirror_mode": {
    "name": "ipython",
    "version": 3
   },
   "file_extension": ".py",
   "mimetype": "text/x-python",
   "name": "python",
   "nbconvert_exporter": "python",
   "pygments_lexer": "ipython3",
   "version": "3.9.13"
  }
 },
 "nbformat": 4,
 "nbformat_minor": 5
}
